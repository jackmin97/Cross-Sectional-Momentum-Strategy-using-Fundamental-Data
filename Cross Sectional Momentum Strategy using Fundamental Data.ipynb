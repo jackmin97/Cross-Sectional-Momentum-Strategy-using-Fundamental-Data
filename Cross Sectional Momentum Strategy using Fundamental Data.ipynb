{
 "cells": [
  {
   "cell_type": "markdown",
   "id": "4b1bab2f",
   "metadata": {},
   "source": [
    "# 1. Read price and volume data"
   ]
  },
  {
   "cell_type": "code",
   "execution_count": 1,
   "id": "7fc24b71",
   "metadata": {},
   "outputs": [],
   "source": [
    "# Import pandas and numpy\n",
    "import pandas as pd\n",
    "import numpy as np\n",
    "\n",
    "# Import matplotlib and set the style\n",
    "import matplotlib.pyplot as plt\n",
    "%matplotlib inline\n",
    "plt.style.use('seaborn-darkgrid')\n",
    "\n",
    "import warnings\n",
    "warnings.filterwarnings('ignore')\n",
    "\n",
    "def read_data(filename):\n",
    "    data = pd.read_pickle(filename)\n",
    "    return data\n",
    "\n",
    "# Read price and volume data\n",
    "stocks_price = read_data('spy_stocks_price_2010_2020.bz2')\n",
    "stocks_volume = read_data('spy_stocks_volume_2010_2020.bz2')"
   ]
  },
  {
   "cell_type": "markdown",
   "id": "f066c98c",
   "metadata": {},
   "source": [
    "## Filter stocks with high turnover"
   ]
  },
  {
   "cell_type": "code",
   "execution_count": 2,
   "id": "fcd7309c",
   "metadata": {},
   "outputs": [
    {
     "data": {
      "text/html": [
       "<div>\n",
       "<style scoped>\n",
       "    .dataframe tbody tr th:only-of-type {\n",
       "        vertical-align: middle;\n",
       "    }\n",
       "\n",
       "    .dataframe tbody tr th {\n",
       "        vertical-align: top;\n",
       "    }\n",
       "\n",
       "    .dataframe thead th {\n",
       "        text-align: right;\n",
       "    }\n",
       "</style>\n",
       "<table border=\"1\" class=\"dataframe\">\n",
       "  <thead>\n",
       "    <tr style=\"text-align: right;\">\n",
       "      <th></th>\n",
       "      <th>AAPL</th>\n",
       "      <th>BAC</th>\n",
       "      <th>C</th>\n",
       "      <th>GS</th>\n",
       "      <th>GOOGL</th>\n",
       "    </tr>\n",
       "    <tr>\n",
       "      <th>Date</th>\n",
       "      <th></th>\n",
       "      <th></th>\n",
       "      <th></th>\n",
       "      <th></th>\n",
       "      <th></th>\n",
       "    </tr>\n",
       "  </thead>\n",
       "  <tbody>\n",
       "    <tr>\n",
       "      <th>2009-12-31</th>\n",
       "      <td>26.06</td>\n",
       "      <td>13.35</td>\n",
       "      <td>30.03</td>\n",
       "      <td>145.17</td>\n",
       "      <td>310.30</td>\n",
       "    </tr>\n",
       "    <tr>\n",
       "      <th>2010-01-04</th>\n",
       "      <td>26.47</td>\n",
       "      <td>13.91</td>\n",
       "      <td>30.84</td>\n",
       "      <td>148.82</td>\n",
       "      <td>313.69</td>\n",
       "    </tr>\n",
       "    <tr>\n",
       "      <th>2010-01-05</th>\n",
       "      <td>26.51</td>\n",
       "      <td>14.37</td>\n",
       "      <td>32.02</td>\n",
       "      <td>151.45</td>\n",
       "      <td>312.31</td>\n",
       "    </tr>\n",
       "    <tr>\n",
       "      <th>2010-01-06</th>\n",
       "      <td>26.09</td>\n",
       "      <td>14.53</td>\n",
       "      <td>33.02</td>\n",
       "      <td>149.83</td>\n",
       "      <td>304.43</td>\n",
       "    </tr>\n",
       "    <tr>\n",
       "      <th>2010-01-07</th>\n",
       "      <td>26.04</td>\n",
       "      <td>15.01</td>\n",
       "      <td>33.11</td>\n",
       "      <td>152.76</td>\n",
       "      <td>297.35</td>\n",
       "    </tr>\n",
       "  </tbody>\n",
       "</table>\n",
       "</div>"
      ],
      "text/plain": [
       "             AAPL    BAC      C      GS   GOOGL\n",
       "Date                                           \n",
       "2009-12-31  26.06  13.35  30.03  145.17  310.30\n",
       "2010-01-04  26.47  13.91  30.84  148.82  313.69\n",
       "2010-01-05  26.51  14.37  32.02  151.45  312.31\n",
       "2010-01-06  26.09  14.53  33.02  149.83  304.43\n",
       "2010-01-07  26.04  15.01  33.11  152.76  297.35"
      ]
     },
     "execution_count": 2,
     "metadata": {},
     "output_type": "execute_result"
    }
   ],
   "source": [
    "# Filter the top 120 stocks\n",
    "filtered_stocks = (stocks_price[:90] * stocks_volume[:90]\n",
    "                   ).mean().sort_values(ascending=False).index[:120]\n",
    "\n",
    "# Drop NaN values\n",
    "filtered_stocks_prices = stocks_price[filtered_stocks].dropna()\n",
    "\n",
    "filtered_stocks_prices.iloc[:5, :5]"
   ]
  },
  {
   "cell_type": "markdown",
   "id": "0b230c01",
   "metadata": {},
   "source": [
    "# 2. Read income statement data"
   ]
  },
  {
   "cell_type": "code",
   "execution_count": 3,
   "id": "c0b7a732",
   "metadata": {},
   "outputs": [
    {
     "data": {
      "text/html": [
       "<div>\n",
       "<style scoped>\n",
       "    .dataframe tbody tr th:only-of-type {\n",
       "        vertical-align: middle;\n",
       "    }\n",
       "\n",
       "    .dataframe tbody tr th {\n",
       "        vertical-align: top;\n",
       "    }\n",
       "\n",
       "    .dataframe thead th {\n",
       "        text-align: right;\n",
       "    }\n",
       "</style>\n",
       "<table border=\"1\" class=\"dataframe\">\n",
       "  <thead>\n",
       "    <tr style=\"text-align: right;\">\n",
       "      <th></th>\n",
       "      <th>Ticker</th>\n",
       "      <th>Report Date</th>\n",
       "      <th>Publish Date</th>\n",
       "      <th>Revenue</th>\n",
       "      <th>Net Income</th>\n",
       "      <th>Operating Income (Loss)</th>\n",
       "    </tr>\n",
       "  </thead>\n",
       "  <tbody>\n",
       "    <tr>\n",
       "      <th>0</th>\n",
       "      <td>AAPL</td>\n",
       "      <td>2009-06-30</td>\n",
       "      <td>2009-07-21</td>\n",
       "      <td>9.734000e+09</td>\n",
       "      <td>1828000000</td>\n",
       "      <td>2632000000</td>\n",
       "    </tr>\n",
       "    <tr>\n",
       "      <th>1</th>\n",
       "      <td>AAPL</td>\n",
       "      <td>2009-09-30</td>\n",
       "      <td>2009-10-21</td>\n",
       "      <td>1.220700e+10</td>\n",
       "      <td>2532000000</td>\n",
       "      <td>3684000000</td>\n",
       "    </tr>\n",
       "  </tbody>\n",
       "</table>\n",
       "</div>"
      ],
      "text/plain": [
       "  Ticker Report Date Publish Date       Revenue  Net Income  \\\n",
       "0   AAPL  2009-06-30   2009-07-21  9.734000e+09  1828000000   \n",
       "1   AAPL  2009-09-30   2009-10-21  1.220700e+10  2532000000   \n",
       "\n",
       "   Operating Income (Loss)  \n",
       "0               2632000000  \n",
       "1               3684000000  "
      ]
     },
     "execution_count": 3,
     "metadata": {},
     "output_type": "execute_result"
    }
   ],
   "source": [
    "# Read quarterly income statement for the tickers in filtered stocks\n",
    "quarterly_income_statement = pd.read_csv('quarterly_income_statement.csv')\n",
    "\n",
    "quarterly_income_statement.head(2)"
   ]
  },
  {
   "cell_type": "markdown",
   "id": "bcb288ac",
   "metadata": {},
   "source": [
    "# 3. Calculate the fundamental factor"
   ]
  },
  {
   "cell_type": "code",
   "execution_count": 4,
   "id": "e15267a5",
   "metadata": {},
   "outputs": [
    {
     "data": {
      "text/html": [
       "<div>\n",
       "<style scoped>\n",
       "    .dataframe tbody tr th:only-of-type {\n",
       "        vertical-align: middle;\n",
       "    }\n",
       "\n",
       "    .dataframe tbody tr th {\n",
       "        vertical-align: top;\n",
       "    }\n",
       "\n",
       "    .dataframe thead th {\n",
       "        text-align: right;\n",
       "    }\n",
       "</style>\n",
       "<table border=\"1\" class=\"dataframe\">\n",
       "  <thead>\n",
       "    <tr style=\"text-align: right;\">\n",
       "      <th></th>\n",
       "    </tr>\n",
       "  </thead>\n",
       "  <tbody>\n",
       "    <tr>\n",
       "      <th>2009-07-21</th>\n",
       "    </tr>\n",
       "    <tr>\n",
       "      <th>2009-10-21</th>\n",
       "    </tr>\n",
       "    <tr>\n",
       "      <th>2010-01-25</th>\n",
       "    </tr>\n",
       "    <tr>\n",
       "      <th>2010-04-21</th>\n",
       "    </tr>\n",
       "    <tr>\n",
       "      <th>2010-07-21</th>\n",
       "    </tr>\n",
       "  </tbody>\n",
       "</table>\n",
       "</div>"
      ],
      "text/plain": [
       "Empty DataFrame\n",
       "Columns: []\n",
       "Index: [2009-07-21, 2009-10-21, 2010-01-25, 2010-04-21, 2010-07-21]"
      ]
     },
     "execution_count": 4,
     "metadata": {},
     "output_type": "execute_result"
    }
   ],
   "source": [
    "# Create dataframe with unique 'Publish Date'\n",
    "fundamental_data = pd.DataFrame(index=quarterly_income_statement['Publish Date'].unique())\n",
    "\n",
    "fundamental_data.head()"
   ]
  },
  {
   "cell_type": "code",
   "execution_count": 5,
   "id": "aa0e8294",
   "metadata": {},
   "outputs": [
    {
     "data": {
      "text/plain": [
       "(866, 70)"
      ]
     },
     "execution_count": 5,
     "metadata": {},
     "output_type": "execute_result"
    }
   ],
   "source": [
    "# Calculate quarterly operating income growth\n",
    "for sym in quarterly_income_statement.Ticker.unique():\n",
    "    df = quarterly_income_statement.loc[quarterly_income_statement.Ticker == sym]\n",
    "    df = df.set_index('Publish Date')\n",
    "    df['operating_income_growth'] = 100 * \\\n",
    "        (df['Operating Income (Loss)']/df['Operating Income (Loss)'].shift(4)-1)\n",
    "    fundamental_data[sym] = df['operating_income_growth']\n",
    "\n",
    " # Sort index of fundamental data\n",
    "fundamental_data = fundamental_data.sort_index()\n",
    "\n",
    "# Forward fill the quarterly data to missing values\n",
    "fundamental_data = fundamental_data.fillna(method='ffill')\n",
    "\n",
    "# Consider fundamental data dataframe from 2012 to mid 2019\n",
    "fundamental_data = fundamental_data.loc['2012':'2019-06-30']\n",
    "\n",
    "# Drop the columns with NaN values\n",
    "fundamental_data = fundamental_data.dropna(axis=1).dropna()\n",
    "\n",
    "# Convert index to datetime\n",
    "fundamental_data.index = pd.to_datetime(fundamental_data.index)\n",
    "\n",
    "# Print the dimensions of fundamental data dataframe\n",
    "fundamental_data.shape"
   ]
  },
  {
   "cell_type": "code",
   "execution_count": 6,
   "id": "f74fa9f0",
   "metadata": {},
   "outputs": [
    {
     "data": {
      "text/plain": [
       "(1884, 70)"
      ]
     },
     "execution_count": 6,
     "metadata": {},
     "output_type": "execute_result"
    }
   ],
   "source": [
    "# Select filtered_stock_prices data from 2012 to mid 2019 with tickers having fundamental data columns\n",
    "filtered_stocks_prices = filtered_stocks_prices.loc['2012':'2019-06-30',\n",
    "                                                    fundamental_data.columns]\n",
    "# Drop the columns with NaN values\n",
    "filtered_stocks_prices = filtered_stocks_prices.dropna(axis=1)\n",
    "\n",
    "filtered_stocks_prices.shape"
   ]
  },
  {
   "cell_type": "code",
   "execution_count": 7,
   "id": "3b3f4cd6",
   "metadata": {},
   "outputs": [
    {
     "data": {
      "text/plain": [
       "(1879, 70)"
      ]
     },
     "execution_count": 7,
     "metadata": {},
     "output_type": "execute_result"
    }
   ],
   "source": [
    "# Create a dataframe 'dates'\n",
    "dates = pd.DataFrame(index=filtered_stocks_prices.index)\n",
    "\n",
    "# Merge 'fundamental_data' dataframe with 'dates' and forward fill the missing values\n",
    "fundamental_data = fundamental_data.merge(\n",
    "    dates, right_index=True, left_index=True, how='right')\n",
    "\n",
    "fundamental_data = fundamental_data.fillna(method='ffill')\n",
    "fundamental_data = fundamental_data.dropna()\n",
    "\n",
    "fundamental_data.shape"
   ]
  },
  {
   "cell_type": "code",
   "execution_count": 8,
   "id": "3db1bb25",
   "metadata": {},
   "outputs": [
    {
     "data": {
      "text/plain": [
       "(1879, 70)"
      ]
     },
     "execution_count": 8,
     "metadata": {},
     "output_type": "execute_result"
    }
   ],
   "source": [
    "# Keep the fundamental_data index\n",
    "filtered_stocks_prices = filtered_stocks_prices.loc[fundamental_data.index, :]\n",
    "\n",
    "# filtered_stocks_prices.shape\n",
    "filtered_stocks_prices.shape"
   ]
  },
  {
   "cell_type": "markdown",
   "id": "cb11d5d1",
   "metadata": {},
   "source": [
    "# 4. Backtest CSMOM strategy"
   ]
  },
  {
   "cell_type": "markdown",
   "id": "1218e008",
   "metadata": {},
   "source": [
    "## 4.1 Fundamental momentum strategy"
   ]
  },
  {
   "cell_type": "code",
   "execution_count": 9,
   "id": "a637ece0",
   "metadata": {},
   "outputs": [],
   "source": [
    "def fundamental_momentum(prices, fundamental_data, hold_days):\n",
    "\n",
    "    # Calculate the stock returns over the the given holding period\n",
    "    hold_returns = prices.pct_change(hold_days).shift(-hold_days)\n",
    "\n",
    "    # Rank the stock returns based on the operating income\n",
    "    fundamental_rank = fundamental_data.rank(axis=1)\n",
    "    n = len(fundamental_rank.columns)\n",
    "\n",
    "    # Generate signal \"1\" for rank > 90, \"-1\" for rank < 10\n",
    "    def signal(rank):\n",
    "        signal = np.where(rank > n*9/10, 1, np.nan)\n",
    "        signal = np.where(rank < n*1/10, -1, signal)\n",
    "        return signal\n",
    "\n",
    "    # Apply the signal function to fundamental_rank and generate a new dataframe trading_signal\n",
    "    trading_signal = fundamental_rank.apply(signal, axis=0)\n",
    "    return hold_returns, trading_signal\n",
    "\n",
    "# --------------------------------------------------------------------------------------------\n",
    "\n",
    "\n",
    "def calculate_performance(hold_returns, trading_signal, hold_days):\n",
    "\n",
    "    # Calculate the stock returns with hold_returns * trading_signal after selecting the rows without NaNs from both the dataframes\n",
    "    stocks_returns = hold_returns * trading_signal\n",
    "    stocks_returns = stocks_returns[::hold_days]\n",
    "    trading_signal = trading_signal[::hold_days]\n",
    "    trading_signal = trading_signal.replace(np.nan, 0)\n",
    "\n",
    "    # Calculate the trading cost when you square off the position and calculate the net stock_returns\n",
    "    cost = (0.001 * np.abs(trading_signal - trading_signal.shift(1)))\n",
    "    stocks_returns = stocks_returns - cost\n",
    "\n",
    "    # Calculate the portfolio returns\n",
    "    portfolio_returns = stocks_returns.mean(axis=1)\n",
    "    cum_rets = (portfolio_returns+1).cumprod().dropna()\n",
    "\n",
    "# --------------------------------------------------------------------------------------------------\n",
    "\n",
    "    # Calculate portfolio returns\n",
    "    total_portfolio_returns = (cum_rets.iloc[-1]-1)*100\n",
    "    print(\"Portfolio Returns: %.2f\" % total_portfolio_returns)\n",
    "\n",
    "    # Calculate sharpe ratio\n",
    "    sharpe = np.mean(portfolio_returns) / \\\n",
    "        np.std(portfolio_returns)*((252/hold_days)**0.5)\n",
    "    print('Sharpe Ratio: %.2f' % sharpe)\n",
    "\n",
    "    # Plot cumulative portfolio returns\n",
    "    fig = plt.figure(figsize=(16, 7))\n",
    "    sub = fig.add_subplot(1, 2, 1)\n",
    "    cum_rets.plot()\n",
    "    sub.set_ylabel('Strategy Returns', fontsize=12)\n",
    "    sub.set_ylabel('Date', fontsize=12)\n",
    "\n",
    "    # Calculate the running maximum\n",
    "    running_max = np.maximum.accumulate(cum_rets.dropna())\n",
    "    # Ensure the value never drops below 1\n",
    "    running_max[running_max < 1] = 1\n",
    "    # Calculate the percentage drawdown\n",
    "    drawdown = ((cum_rets)/running_max - 1)\n",
    "\n",
    "    # Plot drawdown\n",
    "    sub = fig.add_subplot(1, 2, 2)\n",
    "    drawdown.plot(color='r')\n",
    "    plt.fill_between(drawdown.index, drawdown.values, color='red')\n",
    "    plt.grid(which=\"major\", color='k', linestyle='-.', linewidth=0.2)\n",
    "    sub.set_ylabel('Returns', fontsize=12)\n",
    "    plt.show()"
   ]
  },
  {
   "cell_type": "code",
   "execution_count": 10,
   "id": "94844dcf",
   "metadata": {},
   "outputs": [
    {
     "name": "stdout",
     "output_type": "stream",
     "text": [
      "Portfolio Returns: 57.38\n",
      "Sharpe Ratio: 0.77\n"
     ]
    },
    {
     "data": {
      "image/png": "[encoded data removed]",
      "text/plain": [
       "<Figure size 1152x504 with 2 Axes>"
      ]
     },
     "metadata": {},
     "output_type": "display_data"
    }
   ],
   "source": [
    "# Call the function strategy with below inputs\n",
    "hold_days = 22\n",
    "\n",
    "hold_returns, trading_signal = fundamental_momentum(\n",
    "    filtered_stocks_prices, fundamental_data, hold_days)\n",
    "\n",
    "calculate_performance(hold_returns, trading_signal, hold_days)"
   ]
  },
  {
   "cell_type": "markdown",
   "id": "69543d6c",
   "metadata": {},
   "source": [
    "## 4.2 Combined momentum strategy"
   ]
  },
  {
   "cell_type": "code",
   "execution_count": 11,
   "id": "9967c0ea",
   "metadata": {},
   "outputs": [],
   "source": [
    "def fundamental_price_momentum(prices, fundamental_data, hold_days, lookback_days, skip_days):\n",
    "\n",
    "    hold_returns = prices.pct_change(hold_days).shift(-hold_days)\n",
    "    # Rank the stocks based on the operating income growth\n",
    "    fundamental_rank = fundamental_data.rank(axis=1)\n",
    "\n",
    "    # Calculate stock returns over the given lookback period with skip_days\n",
    "    lookback_returns = filtered_stocks_prices.pct_change(\n",
    "        lookback_days).shift(skip_days)\n",
    "    # Rank the stocks based on the lookback returns\n",
    "    lookback_rank = lookback_returns.rank(axis=1)\n",
    "\n",
    "    # Calculate the final rank with weight to calculated lookback and fundamental ranks\n",
    "    final_rank = (0.5*lookback_rank+0.5*fundamental_rank).rank(axis=1)\n",
    "\n",
    "    n = len(fundamental_rank.columns)\n",
    "\n",
    "    def signal(rank):\n",
    "        signal = np.where(rank > n*9/10, 1, np.nan)\n",
    "        signal = np.where(rank < n/10, -1, signal)\n",
    "        return signal\n",
    "\n",
    "    # Generate a new dataframe trading_signal with final rank\n",
    "    trading_signal = final_rank.apply(signal, axis=0)\n",
    "    return hold_returns, trading_signal"
   ]
  },
  {
   "cell_type": "code",
   "execution_count": 12,
   "id": "e7a230fd",
   "metadata": {},
   "outputs": [
    {
     "name": "stdout",
     "output_type": "stream",
     "text": [
      "Portfolio Returns: 87.48\n",
      "Sharpe Ratio: 1.13\n"
     ]
    },
    {
     "data": {
      "image/png": "[encoded data removed]",
      "text/plain": [
       "<Figure size 1152x504 with 2 Axes>"
      ]
     },
     "metadata": {},
     "output_type": "display_data"
    }
   ],
   "source": [
    "# Call the function strategy with below inputs\n",
    "hold_days = 22\n",
    "lookback_days = 45\n",
    "skip_days = 5\n",
    "\n",
    "hold_returns, trading_signal = fundamental_price_momentum(\n",
    "    filtered_stocks_prices, fundamental_data, hold_days, lookback_days, skip_days)\n",
    "\n",
    "calculate_performance(hold_returns, trading_signal, hold_days)"
   ]
  }
 ],
 "metadata": {
  "kernelspec": {
   "display_name": "Python 3",
   "language": "python",
   "name": "python3"
  },
  "language_info": {
   "codemirror_mode": {
    "name": "ipython",
    "version": 3
   },
   "file_extension": ".py",
   "mimetype": "text/x-python",
   "name": "python",
   "nbconvert_exporter": "python",
   "pygments_lexer": "ipython3",
   "version": "3.8.8"
  }
 },
 "nbformat": 4,
 "nbformat_minor": 5
}
